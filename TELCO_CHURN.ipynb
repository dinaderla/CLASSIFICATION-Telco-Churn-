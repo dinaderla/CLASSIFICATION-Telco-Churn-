{
  "nbformat": 4,
  "nbformat_minor": 0,
  "metadata": {
    "colab": {
      "name": "TELCO CHURN",
      "provenance": [],
      "collapsed_sections": []
    },
    "kernelspec": {
      "name": "python3",
      "display_name": "Python 3"
    }
  },
  "cells": [
    {
      "cell_type": "code",
      "metadata": {
        "id": "XFqe5YaNVPrt",
        "colab_type": "code",
        "colab": {}
      },
      "source": [
        "# IMPORT GENERIC PACKAGES\n",
        "import numpy as np # numerical calc package\n",
        "import pandas as pd # holds data\n",
        "import matplotlib.pyplot as plt # plotting library\n",
        "import seaborn as sns # pretty plotting\n",
        "\n",
        "sns.set(rc={'figure.figsize':(20,10)})\n",
        "\n",
        "from sklearn.model_selection import train_test_split # split dataset\n",
        "\n",
        "from sklearn.linear_model import LogisticRegression # linear model for classification\n",
        "\n",
        "from sklearn.metrics import confusion_matrix"
      ],
      "execution_count": 0,
      "outputs": []
    },
    {
      "cell_type": "code",
      "metadata": {
        "id": "Mx1O3KmjWpVh",
        "colab_type": "code",
        "outputId": "9346663c-ab12-4588-c754-e4e63cc0dc58",
        "colab": {
          "base_uri": "https://localhost:8080/",
          "height": 405
        }
      },
      "source": [
        "data = pd.read_csv(\"telco.csv\")\n",
        "data['TotalCharges'] = pd.to_numeric(data['TotalCharges'], errors='coerce')"
      ],
      "execution_count": 0,
      "outputs": [
        {
          "output_type": "error",
          "ename": "FileNotFoundError",
          "evalue": "ignored",
          "traceback": [
            "\u001b[0;31m---------------------------------------------------------------------------\u001b[0m",
            "\u001b[0;31mFileNotFoundError\u001b[0m                         Traceback (most recent call last)",
            "\u001b[0;32m<ipython-input-3-1c6649dc69ba>\u001b[0m in \u001b[0;36m<module>\u001b[0;34m()\u001b[0m\n\u001b[0;32m----> 1\u001b[0;31m \u001b[0mdata\u001b[0m \u001b[0;34m=\u001b[0m \u001b[0mpd\u001b[0m\u001b[0;34m.\u001b[0m\u001b[0mread_csv\u001b[0m\u001b[0;34m(\u001b[0m\u001b[0;34m\"telco.csv\"\u001b[0m\u001b[0;34m)\u001b[0m\u001b[0;34m\u001b[0m\u001b[0;34m\u001b[0m\u001b[0m\n\u001b[0m\u001b[1;32m      2\u001b[0m \u001b[0mdata\u001b[0m\u001b[0;34m[\u001b[0m\u001b[0;34m'TotalCharges'\u001b[0m\u001b[0;34m]\u001b[0m \u001b[0;34m=\u001b[0m \u001b[0mpd\u001b[0m\u001b[0;34m.\u001b[0m\u001b[0mto_numeric\u001b[0m\u001b[0;34m(\u001b[0m\u001b[0mdata\u001b[0m\u001b[0;34m[\u001b[0m\u001b[0;34m'TotalCharges'\u001b[0m\u001b[0;34m]\u001b[0m\u001b[0;34m,\u001b[0m \u001b[0merrors\u001b[0m\u001b[0;34m=\u001b[0m\u001b[0;34m'coerce'\u001b[0m\u001b[0;34m)\u001b[0m\u001b[0;34m\u001b[0m\u001b[0;34m\u001b[0m\u001b[0m\n",
            "\u001b[0;32m/usr/local/lib/python3.6/dist-packages/pandas/io/parsers.py\u001b[0m in \u001b[0;36mparser_f\u001b[0;34m(filepath_or_buffer, sep, delimiter, header, names, index_col, usecols, squeeze, prefix, mangle_dupe_cols, dtype, engine, converters, true_values, false_values, skipinitialspace, skiprows, skipfooter, nrows, na_values, keep_default_na, na_filter, verbose, skip_blank_lines, parse_dates, infer_datetime_format, keep_date_col, date_parser, dayfirst, iterator, chunksize, compression, thousands, decimal, lineterminator, quotechar, quoting, doublequote, escapechar, comment, encoding, dialect, tupleize_cols, error_bad_lines, warn_bad_lines, delim_whitespace, low_memory, memory_map, float_precision)\u001b[0m\n\u001b[1;32m    700\u001b[0m                     skip_blank_lines=skip_blank_lines)\n\u001b[1;32m    701\u001b[0m \u001b[0;34m\u001b[0m\u001b[0m\n\u001b[0;32m--> 702\u001b[0;31m         \u001b[0;32mreturn\u001b[0m \u001b[0m_read\u001b[0m\u001b[0;34m(\u001b[0m\u001b[0mfilepath_or_buffer\u001b[0m\u001b[0;34m,\u001b[0m \u001b[0mkwds\u001b[0m\u001b[0;34m)\u001b[0m\u001b[0;34m\u001b[0m\u001b[0;34m\u001b[0m\u001b[0m\n\u001b[0m\u001b[1;32m    703\u001b[0m \u001b[0;34m\u001b[0m\u001b[0m\n\u001b[1;32m    704\u001b[0m     \u001b[0mparser_f\u001b[0m\u001b[0;34m.\u001b[0m\u001b[0m__name__\u001b[0m \u001b[0;34m=\u001b[0m \u001b[0mname\u001b[0m\u001b[0;34m\u001b[0m\u001b[0;34m\u001b[0m\u001b[0m\n",
            "\u001b[0;32m/usr/local/lib/python3.6/dist-packages/pandas/io/parsers.py\u001b[0m in \u001b[0;36m_read\u001b[0;34m(filepath_or_buffer, kwds)\u001b[0m\n\u001b[1;32m    427\u001b[0m \u001b[0;34m\u001b[0m\u001b[0m\n\u001b[1;32m    428\u001b[0m     \u001b[0;31m# Create the parser.\u001b[0m\u001b[0;34m\u001b[0m\u001b[0;34m\u001b[0m\u001b[0;34m\u001b[0m\u001b[0m\n\u001b[0;32m--> 429\u001b[0;31m     \u001b[0mparser\u001b[0m \u001b[0;34m=\u001b[0m \u001b[0mTextFileReader\u001b[0m\u001b[0;34m(\u001b[0m\u001b[0mfilepath_or_buffer\u001b[0m\u001b[0;34m,\u001b[0m \u001b[0;34m**\u001b[0m\u001b[0mkwds\u001b[0m\u001b[0;34m)\u001b[0m\u001b[0;34m\u001b[0m\u001b[0;34m\u001b[0m\u001b[0m\n\u001b[0m\u001b[1;32m    430\u001b[0m \u001b[0;34m\u001b[0m\u001b[0m\n\u001b[1;32m    431\u001b[0m     \u001b[0;32mif\u001b[0m \u001b[0mchunksize\u001b[0m \u001b[0;32mor\u001b[0m \u001b[0miterator\u001b[0m\u001b[0;34m:\u001b[0m\u001b[0;34m\u001b[0m\u001b[0;34m\u001b[0m\u001b[0m\n",
            "\u001b[0;32m/usr/local/lib/python3.6/dist-packages/pandas/io/parsers.py\u001b[0m in \u001b[0;36m__init__\u001b[0;34m(self, f, engine, **kwds)\u001b[0m\n\u001b[1;32m    893\u001b[0m             \u001b[0mself\u001b[0m\u001b[0;34m.\u001b[0m\u001b[0moptions\u001b[0m\u001b[0;34m[\u001b[0m\u001b[0;34m'has_index_names'\u001b[0m\u001b[0;34m]\u001b[0m \u001b[0;34m=\u001b[0m \u001b[0mkwds\u001b[0m\u001b[0;34m[\u001b[0m\u001b[0;34m'has_index_names'\u001b[0m\u001b[0;34m]\u001b[0m\u001b[0;34m\u001b[0m\u001b[0;34m\u001b[0m\u001b[0m\n\u001b[1;32m    894\u001b[0m \u001b[0;34m\u001b[0m\u001b[0m\n\u001b[0;32m--> 895\u001b[0;31m         \u001b[0mself\u001b[0m\u001b[0;34m.\u001b[0m\u001b[0m_make_engine\u001b[0m\u001b[0;34m(\u001b[0m\u001b[0mself\u001b[0m\u001b[0;34m.\u001b[0m\u001b[0mengine\u001b[0m\u001b[0;34m)\u001b[0m\u001b[0;34m\u001b[0m\u001b[0;34m\u001b[0m\u001b[0m\n\u001b[0m\u001b[1;32m    896\u001b[0m \u001b[0;34m\u001b[0m\u001b[0m\n\u001b[1;32m    897\u001b[0m     \u001b[0;32mdef\u001b[0m \u001b[0mclose\u001b[0m\u001b[0;34m(\u001b[0m\u001b[0mself\u001b[0m\u001b[0;34m)\u001b[0m\u001b[0;34m:\u001b[0m\u001b[0;34m\u001b[0m\u001b[0;34m\u001b[0m\u001b[0m\n",
            "\u001b[0;32m/usr/local/lib/python3.6/dist-packages/pandas/io/parsers.py\u001b[0m in \u001b[0;36m_make_engine\u001b[0;34m(self, engine)\u001b[0m\n\u001b[1;32m   1120\u001b[0m     \u001b[0;32mdef\u001b[0m \u001b[0m_make_engine\u001b[0m\u001b[0;34m(\u001b[0m\u001b[0mself\u001b[0m\u001b[0;34m,\u001b[0m \u001b[0mengine\u001b[0m\u001b[0;34m=\u001b[0m\u001b[0;34m'c'\u001b[0m\u001b[0;34m)\u001b[0m\u001b[0;34m:\u001b[0m\u001b[0;34m\u001b[0m\u001b[0;34m\u001b[0m\u001b[0m\n\u001b[1;32m   1121\u001b[0m         \u001b[0;32mif\u001b[0m \u001b[0mengine\u001b[0m \u001b[0;34m==\u001b[0m \u001b[0;34m'c'\u001b[0m\u001b[0;34m:\u001b[0m\u001b[0;34m\u001b[0m\u001b[0;34m\u001b[0m\u001b[0m\n\u001b[0;32m-> 1122\u001b[0;31m             \u001b[0mself\u001b[0m\u001b[0;34m.\u001b[0m\u001b[0m_engine\u001b[0m \u001b[0;34m=\u001b[0m \u001b[0mCParserWrapper\u001b[0m\u001b[0;34m(\u001b[0m\u001b[0mself\u001b[0m\u001b[0;34m.\u001b[0m\u001b[0mf\u001b[0m\u001b[0;34m,\u001b[0m \u001b[0;34m**\u001b[0m\u001b[0mself\u001b[0m\u001b[0;34m.\u001b[0m\u001b[0moptions\u001b[0m\u001b[0;34m)\u001b[0m\u001b[0;34m\u001b[0m\u001b[0;34m\u001b[0m\u001b[0m\n\u001b[0m\u001b[1;32m   1123\u001b[0m         \u001b[0;32melse\u001b[0m\u001b[0;34m:\u001b[0m\u001b[0;34m\u001b[0m\u001b[0;34m\u001b[0m\u001b[0m\n\u001b[1;32m   1124\u001b[0m             \u001b[0;32mif\u001b[0m \u001b[0mengine\u001b[0m \u001b[0;34m==\u001b[0m \u001b[0;34m'python'\u001b[0m\u001b[0;34m:\u001b[0m\u001b[0;34m\u001b[0m\u001b[0;34m\u001b[0m\u001b[0m\n",
            "\u001b[0;32m/usr/local/lib/python3.6/dist-packages/pandas/io/parsers.py\u001b[0m in \u001b[0;36m__init__\u001b[0;34m(self, src, **kwds)\u001b[0m\n\u001b[1;32m   1851\u001b[0m         \u001b[0mkwds\u001b[0m\u001b[0;34m[\u001b[0m\u001b[0;34m'usecols'\u001b[0m\u001b[0;34m]\u001b[0m \u001b[0;34m=\u001b[0m \u001b[0mself\u001b[0m\u001b[0;34m.\u001b[0m\u001b[0musecols\u001b[0m\u001b[0;34m\u001b[0m\u001b[0;34m\u001b[0m\u001b[0m\n\u001b[1;32m   1852\u001b[0m \u001b[0;34m\u001b[0m\u001b[0m\n\u001b[0;32m-> 1853\u001b[0;31m         \u001b[0mself\u001b[0m\u001b[0;34m.\u001b[0m\u001b[0m_reader\u001b[0m \u001b[0;34m=\u001b[0m \u001b[0mparsers\u001b[0m\u001b[0;34m.\u001b[0m\u001b[0mTextReader\u001b[0m\u001b[0;34m(\u001b[0m\u001b[0msrc\u001b[0m\u001b[0;34m,\u001b[0m \u001b[0;34m**\u001b[0m\u001b[0mkwds\u001b[0m\u001b[0;34m)\u001b[0m\u001b[0;34m\u001b[0m\u001b[0;34m\u001b[0m\u001b[0m\n\u001b[0m\u001b[1;32m   1854\u001b[0m         \u001b[0mself\u001b[0m\u001b[0;34m.\u001b[0m\u001b[0munnamed_cols\u001b[0m \u001b[0;34m=\u001b[0m \u001b[0mself\u001b[0m\u001b[0;34m.\u001b[0m\u001b[0m_reader\u001b[0m\u001b[0;34m.\u001b[0m\u001b[0munnamed_cols\u001b[0m\u001b[0;34m\u001b[0m\u001b[0;34m\u001b[0m\u001b[0m\n\u001b[1;32m   1855\u001b[0m \u001b[0;34m\u001b[0m\u001b[0m\n",
            "\u001b[0;32mpandas/_libs/parsers.pyx\u001b[0m in \u001b[0;36mpandas._libs.parsers.TextReader.__cinit__\u001b[0;34m()\u001b[0m\n",
            "\u001b[0;32mpandas/_libs/parsers.pyx\u001b[0m in \u001b[0;36mpandas._libs.parsers.TextReader._setup_parser_source\u001b[0;34m()\u001b[0m\n",
            "\u001b[0;31mFileNotFoundError\u001b[0m: [Errno 2] File b'telco.csv' does not exist: b'telco.csv'"
          ]
        }
      ]
    },
    {
      "cell_type": "markdown",
      "metadata": {
        "id": "rDIMDKbHD4EE",
        "colab_type": "text"
      },
      "source": [
        ""
      ]
    },
    {
      "cell_type": "code",
      "metadata": {
        "id": "eoz0RsvMb1Yf",
        "colab_type": "code",
        "colab": {}
      },
      "source": [
        "# total number of null/empty/not available entries in a column\n",
        "data['TotalCharges'].isna().sum()"
      ],
      "execution_count": 0,
      "outputs": []
    },
    {
      "cell_type": "code",
      "metadata": {
        "id": "4cKPgc1kDcu8",
        "colab_type": "code",
        "colab": {}
      },
      "source": [
        ""
      ],
      "execution_count": 0,
      "outputs": []
    },
    {
      "cell_type": "code",
      "metadata": {
        "id": "n1hhrg_jW280",
        "colab_type": "code",
        "colab": {}
      },
      "source": [
        "data.head()"
      ],
      "execution_count": 0,
      "outputs": []
    },
    {
      "cell_type": "markdown",
      "metadata": {
        "id": "15TErDiUjZyY",
        "colab_type": "text"
      },
      "source": [
        "### Composition"
      ]
    },
    {
      "cell_type": "code",
      "metadata": {
        "id": "Ql-qIqUIlMXk",
        "colab_type": "code",
        "colab": {}
      },
      "source": [
        "# In the whole dataset, how many churned?\n",
        "data.Churn.value_counts().plot(kind='line')\n",
        "plt.gca().invert_yaxis()"
      ],
      "execution_count": 0,
      "outputs": []
    },
    {
      "cell_type": "markdown",
      "metadata": {
        "id": "ocaJEp1UlRCz",
        "colab_type": "text"
      },
      "source": [
        "[link text](https://)The data is imbalanced\n",
        "-- there are more than twice as many not-churned than churn."
      ]
    },
    {
      "cell_type": "code",
      "metadata": {
        "id": "xW1RN6rUidMO",
        "colab_type": "code",
        "colab": {}
      },
      "source": [
        "# How many people are subsribed to each type of internet service\n",
        "data.InternetService.value_counts().plot(kind='barh')\n",
        "plt.gca().invert_yaxis()"
      ],
      "execution_count": 0,
      "outputs": []
    },
    {
      "cell_type": "code",
      "metadata": {
        "id": "EwzJ6kCKiwES",
        "colab_type": "code",
        "colab": {}
      },
      "source": [
        "# How many people are subsribed to each payment method\n",
        "data.PaymentMethod.value_counts().plot(kind='barh')\n",
        "plt.gca().invert_yaxis()"
      ],
      "execution_count": 0,
      "outputs": []
    },
    {
      "cell_type": "markdown",
      "metadata": {
        "id": "m1VtjKfyi44m",
        "colab_type": "text"
      },
      "source": [
        "### Relationship"
      ]
    },
    {
      "cell_type": "code",
      "metadata": {
        "id": "OORdHyC_jDD_",
        "colab_type": "code",
        "colab": {}
      },
      "source": [
        "# How is tenure related churn?\n",
        "sns.catplot(data=data,\n",
        "            x='Churn',\n",
        "            y='tenure',\n",
        "            kind='box',\n",
        "            height=10)"
      ],
      "execution_count": 0,
      "outputs": []
    },
    {
      "cell_type": "code",
      "metadata": {
        "id": "oKFk--zMjYed",
        "colab_type": "code",
        "colab": {}
      },
      "source": [
        "# How are monthly charges related churn?\n",
        "sns.catplot(data=data,\n",
        "            x='Churn',\n",
        "            y='MonthlyCharges',\n",
        "            kind='box',\n",
        "            height=10)p"
      ],
      "execution_count": 0,
      "outputs": []
    },
    {
      "cell_type": "markdown",
      "metadata": {
        "id": "IWtDT5J6linT",
        "colab_type": "text"
      },
      "source": [
        "### Compute Likelihood (when comparing categorical feature to categorical target)"
      ]
    },
    {
      "cell_type": "code",
      "metadata": {
        "id": "O44Alt24jowF",
        "colab_type": "code",
        "colab": {}
      },
      "source": [
        "# How likely are senior citizen going to churn?\n",
        "pd.crosstab(data.SeniorCitizen,\n",
        "            data.Churn)"
      ],
      "execution_count": 0,
      "outputs": []
    },
    {
      "cell_type": "code",
      "metadata": {
        "id": "In2mlBwLktOP",
        "colab_type": "code",
        "colab": {}
      },
      "source": [
        "# Probability of churning if not senior citizen\n",
        "1393/(1393 + 4508)"
      ],
      "execution_count": 0,
      "outputs": []
    },
    {
      "cell_type": "code",
      "metadata": {
        "id": "GFYyFoqLk6O6",
        "colab_type": "code",
        "colab": {}
      },
      "source": [
        "# Probability of churning if senior citizen\n",
        "476/(476 + 666)"
      ],
      "execution_count": 0,
      "outputs": []
    },
    {
      "cell_type": "markdown",
      "metadata": {
        "id": "V9A93XtOlAFC",
        "colab_type": "text"
      },
      "source": [
        "Senior Citizen have higher probability of churning compared to not senior citizen."
      ]
    },
    {
      "cell_type": "code",
      "metadata": {
        "id": "uqve1mpXh7VP",
        "colab_type": "code",
        "colab": {}
      },
      "source": [
        "# How many rows and columns\n",
        "data.shape"
      ],
      "execution_count": 0,
      "outputs": []
    },
    {
      "cell_type": "code",
      "metadata": {
        "id": "CztjUqjTh356",
        "colab_type": "code",
        "colab": {}
      },
      "source": [
        "# How many senior citizen \n",
        "data.SeniorCitizen.sum()"
      ],
      "execution_count": 0,
      "outputs": []
    },
    {
      "cell_type": "code",
      "metadata": {
        "id": "JNIswnBGlks0",
        "colab_type": "code",
        "colab": {}
      },
      "source": [
        "# How likely are different types of internet service attributing to churn?\n",
        "pd.crosstab(data.InternetService,\n",
        "            data.Churn)"
      ],
      "execution_count": 0,
      "outputs": []
    },
    {
      "cell_type": "code",
      "metadata": {
        "id": "-fZMaPnIlujd",
        "colab_type": "code",
        "colab": {}
      },
      "source": [
        "# Probability of churning if DSL\n",
        "459/(459+1962)"
      ],
      "execution_count": 0,
      "outputs": []
    },
    {
      "cell_type": "code",
      "metadata": {
        "id": "pwzANRHWl6rb",
        "colab_type": "code",
        "colab": {}
      },
      "source": [
        "# Probability of churning if Fiber Optic\n",
        "1297/(1297+1799)"
      ],
      "execution_count": 0,
      "outputs": []
    },
    {
      "cell_type": "code",
      "metadata": {
        "id": "NOmwlTmEmFVH",
        "colab_type": "code",
        "colab": {}
      },
      "source": [
        "# Probability of churning if no internet service\n",
        "113/(1413 + 113)"
      ],
      "execution_count": 0,
      "outputs": []
    },
    {
      "cell_type": "code",
      "metadata": {
        "id": "Gj731Q4YmzRO",
        "colab_type": "code",
        "colab": {}
      },
      "source": [
        "# How likely are people who have multiple lines churn?\n",
        "pd.crosstab(data.MultipleLines,\n",
        "            data.Churn)"
      ],
      "execution_count": 0,
      "outputs": []
    },
    {
      "cell_type": "code",
      "metadata": {
        "id": "yNfw2CFGnk_5",
        "colab_type": "code",
        "colab": {}
      },
      "source": [
        "#Probability of churning if no multiple lines\n",
        "849/(849+2541)"
      ],
      "execution_count": 0,
      "outputs": []
    },
    {
      "cell_type": "code",
      "metadata": {
        "id": "KJVCXig8oRwu",
        "colab_type": "code",
        "colab": {}
      },
      "source": [
        "#Probability of churning if no internet service\n",
        "170/(170+512)"
      ],
      "execution_count": 0,
      "outputs": []
    },
    {
      "cell_type": "code",
      "metadata": {
        "id": "c48KzY-UogT0",
        "colab_type": "code",
        "colab": {}
      },
      "source": [
        "#Probability of churning if with multiple lines\n",
        "850/(850+2121)"
      ],
      "execution_count": 0,
      "outputs": []
    },
    {
      "cell_type": "markdown",
      "metadata": {
        "colab_type": "text",
        "id": "TsLkkXN-miAe"
      },
      "source": [
        "### Distribution"
      ]
    },
    {
      "cell_type": "code",
      "metadata": {
        "id": "yE5Wn1Z8iCDN",
        "colab_type": "code",
        "colab": {}
      },
      "source": [
        "# What is the distribution of tenure\n",
        "sns.distplot(data.tenure, kde=False)"
      ],
      "execution_count": 0,
      "outputs": []
    },
    {
      "cell_type": "code",
      "metadata": {
        "id": "XhYzx06ziTfP",
        "colab_type": "code",
        "colab": {}
      },
      "source": [
        ""
      ],
      "execution_count": 0,
      "outputs": []
    },
    {
      "cell_type": "code",
      "metadata": {
        "id": "fc76EigQYXIA",
        "colab_type": "code",
        "colab": {}
      },
      "source": [
        "data.loc[5:10]"
      ],
      "execution_count": 0,
      "outputs": []
    },
    {
      "cell_type": "code",
      "metadata": {
        "id": "YdOXG7Ffh1Sr",
        "colab_type": "code",
        "colab": {}
      },
      "source": [
        "# What is the distribution of Monthly Charges\n",
        "sns.distplot(data.MonthlyCharges, kde=False)"
      ],
      "execution_count": 0,
      "outputs": []
    },
    {
      "cell_type": "code",
      "metadata": {
        "id": "w2timKTYYo-d",
        "colab_type": "code",
        "colab": {}
      },
      "source": [
        "data[\"SeniorCitizen\"].head()"
      ],
      "execution_count": 0,
      "outputs": []
    },
    {
      "cell_type": "code",
      "metadata": {
        "id": "sxDN14HkahhI",
        "colab_type": "code",
        "colab": {}
      },
      "source": [
        "data.shape"
      ],
      "execution_count": 0,
      "outputs": []
    },
    {
      "cell_type": "code",
      "metadata": {
        "id": "Z8z5Rc9jad1M",
        "colab_type": "code",
        "colab": {}
      },
      "source": [
        "data.dtypes"
      ],
      "execution_count": 0,
      "outputs": []
    },
    {
      "cell_type": "code",
      "metadata": {
        "id": "irn5A4QOaMqK",
        "colab_type": "code",
        "colab": {}
      },
      "source": [
        "data.columns"
      ],
      "execution_count": 0,
      "outputs": []
    },
    {
      "cell_type": "code",
      "metadata": {
        "id": "Xazbq464dRc9",
        "colab_type": "code",
        "colab": {}
      },
      "source": [
        "# Create new data\n",
        "columns = ['gender', 'SeniorCitizen', 'Partner', 'Dependents',\n",
        "       'tenure', 'PhoneService', 'MultipleLines', 'InternetService',\n",
        "       'OnlineSecurity', 'OnlineBackup', 'DeviceProtection', 'TechSupport',\n",
        "       'StreamingTV', 'StreamingMovies', 'Contract', 'PaperlessBilling',\n",
        "       'PaymentMethod', 'MonthlyCharges', 'TotalCharges', 'Churn']\n",
        "\n",
        "new_data = data[columns]"
      ],
      "execution_count": 0,
      "outputs": []
    },
    {
      "cell_type": "code",
      "metadata": {
        "id": "pnMUjFf2bcTh",
        "colab_type": "code",
        "colab": {}
      },
      "source": [
        "# Dummify new data\n",
        "dum_data = pd.get_dummies(new_data)"
      ],
      "execution_count": 0,
      "outputs": []
    },
    {
      "cell_type": "code",
      "metadata": {
        "id": "AHMS8CMgbqJ1",
        "colab_type": "code",
        "colab": {}
      },
      "source": [
        "dum_data.columns"
      ],
      "execution_count": 0,
      "outputs": []
    },
    {
      "cell_type": "code",
      "metadata": {
        "id": "kI5C1gmDcNd3",
        "colab_type": "code",
        "colab": {}
      },
      "source": [
        "# Use len() to get umber of entries in a list or array\n",
        "len(dum_data.columns)"
      ],
      "execution_count": 0,
      "outputs": []
    },
    {
      "cell_type": "code",
      "metadata": {
        "id": "m8jQtxWUctuV",
        "colab_type": "code",
        "colab": {}
      },
      "source": [
        "# List of strongly correlated features to churn\n",
        "dum_data.corr().sort_values('Churn_Yes', ascending=False)['Churn_Yes'].plot(kind='barh')\n",
        "plt.gca().invert_yaxis()"
      ],
      "execution_count": 0,
      "outputs": []
    },
    {
      "cell_type": "code",
      "metadata": {
        "id": "cjuOia_keBFN",
        "colab_type": "code",
        "colab": {}
      },
      "source": [
        "# Get correlations with Churn and remove Churn_Yes and Churn_No\n",
        "churn_correlations = dum_data.corr().sort_values('Churn_Yes', ascending=False)['Churn_Yes'].drop(['Churn_Yes', 'Churn_No'])\n",
        "\n",
        "# Get high correlations (higher than 20% correlation)\n",
        "filtered_churn_correlations = churn_correlations[np.abs(churn_correlations) > 0.2]\n"
      ],
      "execution_count": 0,
      "outputs": []
    },
    {
      "cell_type": "code",
      "metadata": {
        "id": "PxxOjeNrgifP",
        "colab_type": "code",
        "colab": {}
      },
      "source": [
        "filtered_churn_correlations"
      ],
      "execution_count": 0,
      "outputs": []
    },
    {
      "cell_type": "code",
      "metadata": {
        "id": "pIXe9i20Y9kE",
        "colab_type": "code",
        "colab": {}
      },
      "source": [
        "# write list of features we want to use\n",
        "features = filtered_churn_correlations.index\n",
        "\n",
        "\n",
        "# Set X\n",
        "X = dum_data[features]"
      ],
      "execution_count": 0,
      "outputs": []
    },
    {
      "cell_type": "code",
      "metadata": {
        "id": "k86nxRuXcazb",
        "colab_type": "code",
        "colab": {}
      },
      "source": [
        "X.columns"
      ],
      "execution_count": 0,
      "outputs": []
    },
    {
      "cell_type": "code",
      "metadata": {
        "id": "imHnvkmfdEJQ",
        "colab_type": "code",
        "colab": {}
      },
      "source": [
        "X.head()"
      ],
      "execution_count": 0,
      "outputs": []
    },
    {
      "cell_type": "code",
      "metadata": {
        "id": "5wemzYjzdGTW",
        "colab_type": "code",
        "colab": {}
      },
      "source": [
        "# Set y\n",
        "y = dum_data[\"Churn_Yes\"]"
      ],
      "execution_count": 0,
      "outputs": []
    },
    {
      "cell_type": "code",
      "metadata": {
        "id": "_KmFazwWejTu",
        "colab_type": "code",
        "colab": {}
      },
      "source": [
        "# Train test split\n",
        "X_train, X_test, y_train, y_test = train_test_split(X, y, test_size = 0.2, random_state = 42)"
      ],
      "execution_count": 0,
      "outputs": []
    },
    {
      "cell_type": "code",
      "metadata": {
        "id": "CPzoM2SBem2f",
        "colab_type": "code",
        "colab": {}
      },
      "source": [
        "# initialize model\n",
        "log_reg = LogisticRegression()\n",
        "\n",
        "# fit model\n",
        "log_reg.fit(X_train, y_train)\n",
        "\n",
        "# metrics (accuracy)\n",
        "acc = log_reg.score(X_test, y_test)\n",
        "\n",
        "\n",
        "# predictions\n",
        "y_pred = log_reg.predict(X_test)"
      ],
      "execution_count": 0,
      "outputs": []
    },
    {
      "cell_type": "code",
      "metadata": {
        "id": "UU6FJ82DetfR",
        "colab_type": "code",
        "colab": {}
      },
      "source": [
        "acc"
      ],
      "execution_count": 0,
      "outputs": []
    },
    {
      "cell_type": "code",
      "metadata": {
        "id": "NyPtYpIthPcn",
        "colab_type": "code",
        "colab": {}
      },
      "source": [
        "confusion_matrix(y_test, y_pred)"
      ],
      "execution_count": 0,
      "outputs": []
    },
    {
      "cell_type": "code",
      "metadata": {
        "id": "5lyhLFHIhQRw",
        "colab_type": "code",
        "colab": {}
      },
      "source": [
        "# Probability of predicting not churn (True Negative Rate)\n",
        "938/(938 + 98)"
      ],
      "execution_count": 0,
      "outputs": []
    },
    {
      "cell_type": "code",
      "metadata": {
        "id": "A7bMkLVXhVXz",
        "colab_type": "code",
        "colab": {}
      },
      "source": [
        "# Probability of predicting churn (True Positive Rate)\n",
        "208/(208 + 165)"
      ],
      "execution_count": 0,
      "outputs": []
    },
    {
      "cell_type": "code",
      "metadata": {
        "id": "9dUIWBz_evJz",
        "colab_type": "code",
        "colab": {}
      },
      "source": [
        "sns.heatmap(confusion_matrix(y_test, y_pred), annot=True, cmap='Blues')"
      ],
      "execution_count": 0,
      "outputs": []
    },
    {
      "cell_type": "markdown",
      "metadata": {
        "id": "OnaSdrdpgtjH",
        "colab_type": "text"
      },
      "source": [
        "Your model is more sure in predicting people who are NOT going to churn, than those who are gonna churn."
      ]
    },
    {
      "cell_type": "markdown",
      "metadata": {
        "id": "S2Qm0wg3hMGB",
        "colab_type": "text"
      },
      "source": [
        "Recommendations: \n",
        "- explore other data we can collect or incorporate more features (or different permutations of features) into the model.\n",
        "- try different modelling techniques (to be discussed in class)"
      ]
    }
  ]
}